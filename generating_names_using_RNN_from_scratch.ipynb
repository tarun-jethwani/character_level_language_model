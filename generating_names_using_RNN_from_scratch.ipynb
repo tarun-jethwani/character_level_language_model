{
  "nbformat": 4,
  "nbformat_minor": 0,
  "metadata": {
    "coursera": {
      "course_slug": "nlp-sequence-models",
      "graded_item_id": "1dYg0",
      "launcher_item_id": "MLhxP"
    },
    "kernelspec": {
      "display_name": "Python 3",
      "language": "python",
      "name": "python3"
    },
    "language_info": {
      "codemirror_mode": {
        "name": "ipython",
        "version": 3
      },
      "file_extension": ".py",
      "mimetype": "text/x-python",
      "name": "python",
      "nbconvert_exporter": "python",
      "pygments_lexer": "ipython3",
      "version": "3.6.0"
    },
    "colab": {
      "name": "generating_names_using_RNN_from_scratch.ipynb",
      "provenance": [],
      "collapsed_sections": [],
      "include_colab_link": true
    }
  },
  "cells": [
    {
      "cell_type": "markdown",
      "metadata": {
        "id": "view-in-github",
        "colab_type": "text"
      },
      "source": [
        "<a href=\"https://colab.research.google.com/github/tarun-jethwani/character_level_language_model/blob/master/generating_names_using_RNN_from_scratch.ipynb\" target=\"_parent\"><img src=\"https://colab.research.google.com/assets/colab-badge.svg\" alt=\"Open In Colab\"/></a>"
      ]
    },
    {
      "cell_type": "markdown",
      "metadata": {
        "id": "eOxepKXOg4fO",
        "colab_type": "text"
      },
      "source": [
        "Building Character level language with RNN\n",
        "\n",
        "This tutorial is the perfect demonstration of what RNN's are capable of, Please visit my [Blog Page](https://leakyrelu.com/) to [know more about this project](https://leakyrelu.com/2019/10/03/generating-people-names-by-building-character-level-language-model-rnn-from-scratch/), otherwise this Ipython Notebook is self explainatory\n",
        "\n",
        "Building the Character Language Model from scratch, just by using Numpy.\n",
        "like, I have said earlier in my [tutorials](https://leakyrelu.com/2019/09/01/building-a-deep-neural-network-from-scratch/), building any Machine Learning and Deep Learning Model can give you a great insight about how these bit and pieces come together to make a complete model, you could visualize yourself how the Data might be going in getting processed and how RNN ( Recurrent Neural Network ) will be generating predictions, so in a way these so called Deep Learning Models are not mere black box for you.\n",
        "\n",
        "The underlying model used is RNN which stands for Recurrent Neural Network, it generates prediction for the current time step on the basis of the previous time step\n",
        "\n",
        "We are going to train the language model with data containing people names,\n",
        "the dataset is there in the file names.txt, for now I have uploaded the file in my Github Repo.\n",
        "\n",
        "After Training the Model, we will expect the model to sample random names on the basis of what it has learnt.\n",
        "\n",
        "We are going to code the following Steps,\n",
        "- store text data for processing using an RNN \n",
        "- to synthesize data, by sampling predictions at each time step and passing it to the next RNN-cell unit\n",
        "- build a character-level text generation recurrent neural network\n",
        "- clip gradients ( to prevent it from exploding)"
      ]
    },
    {
      "cell_type": "code",
      "metadata": {
        "id": "WW3Be4mQKq-t",
        "colab_type": "code",
        "colab": {}
      },
      "source": [
        "import numpy as np"
      ],
      "execution_count": 0,
      "outputs": []
    },
    {
      "cell_type": "markdown",
      "metadata": {
        "id": "y8YoDvUWmgtL",
        "colab_type": "text"
      },
      "source": [
        "Some helper functions for intermediate computations"
      ]
    },
    {
      "cell_type": "code",
      "metadata": {
        "id": "ZV76pTQfmm35",
        "colab_type": "code",
        "colab": {}
      },
      "source": [
        "def softmax(x):\n",
        "    e_x = np.exp(x - np.max(x))\n",
        "    return e_x / e_x.sum(axis=0)\n",
        "\n",
        "\n",
        "def print_sample(sample_ix, ix_to_char):\n",
        "    txt = ''.join(ix_to_char[ix] for ix in sample_ix)\n",
        "    txt = txt[0].upper() + txt[1:]  # capitalize first character \n",
        "    print ('%s' % (txt, ), end='')\n",
        "\n",
        "def get_initial_loss(vocab_size, seq_length):\n",
        "    return -np.log(1.0/vocab_size)*seq_length\n",
        "\n",
        "def softmax(x):\n",
        "    e_x = np.exp(x - np.max(x))\n",
        "    return e_x / e_x.sum(axis=0)"
      ],
      "execution_count": 0,
      "outputs": []
    },
    {
      "cell_type": "markdown",
      "metadata": {
        "id": "fd-OjBVXmqUl",
        "colab_type": "text"
      },
      "source": [
        "### Initialize the Parameters"
      ]
    },
    {
      "cell_type": "code",
      "metadata": {
        "id": "0g59oSTzg7nQ",
        "colab_type": "code",
        "colab": {}
      },
      "source": [
        "def initialize_parameters(n_a, n_x, n_y):\n",
        "    \"\"\"\n",
        "    Initialize parameters with small random values\n",
        "    \n",
        "    Returns:\n",
        "    parameters -- python dictionary containing:\n",
        "                        Wax -- Weight matrix multiplying the input, numpy array of shape (n_a, n_x)\n",
        "                        Waa -- Weight matrix multiplying the hidden state, numpy array of shape (n_a, n_a)\n",
        "                        Wya -- Weight matrix relating the hidden-state to the output, numpy array of shape (n_y, n_a)\n",
        "                        b --  Bias, numpy array of shape (n_a, 1)\n",
        "                        by -- Bias relating the hidden-state to the output, numpy array of shape (n_y, 1)\n",
        "    \"\"\"\n",
        "    np.random.seed(1)\n",
        "    Wax = np.random.randn(n_a, n_x)*0.01 # input to hidden\n",
        "    Waa = np.random.randn(n_a, n_a)*0.01 # hidden to hidden\n",
        "    Wya = np.random.randn(n_y, n_a)*0.01 # hidden to output\n",
        "    b = np.zeros((n_a, 1)) # hidden bias\n",
        "    by = np.zeros((n_y, 1)) # output bias\n",
        "    \n",
        "    parameters = {\"Wax\": Wax, \"Waa\": Waa, \"Wya\": Wya, \"b\": b,\"by\": by}\n",
        "    \n",
        "    return parameters"
      ],
      "execution_count": 0,
      "outputs": []
    },
    {
      "cell_type": "markdown",
      "metadata": {
        "id": "nr1Opw9PnAl1",
        "colab_type": "text"
      },
      "source": [
        "### One Step of RNN"
      ]
    },
    {
      "cell_type": "code",
      "metadata": {
        "id": "CsjNuKuOm4e1",
        "colab_type": "code",
        "colab": {}
      },
      "source": [
        "def rnn_step_forward(parameters, a_prev, x):\n",
        "    \n",
        "    Waa, Wax, Wya, by, b = parameters['Waa'], parameters['Wax'], parameters['Wya'], parameters['by'], parameters['b']\n",
        "    a_next = np.tanh(np.dot(Wax, x) + np.dot(Waa, a_prev) + b) # hidden state\n",
        "    p_t = softmax(np.dot(Wya, a_next) + by) # unnormalized log probabilities for next chars # probabilities for next chars \n",
        "    \n",
        "    return a_next, p_t"
      ],
      "execution_count": 0,
      "outputs": []
    },
    {
      "cell_type": "markdown",
      "metadata": {
        "id": "CfqSeFW6pd6m",
        "colab_type": "text"
      },
      "source": [
        "### Forward Pass of RNN ( for one example )"
      ]
    },
    {
      "cell_type": "code",
      "metadata": {
        "id": "KuqLOiO9r_Hl",
        "colab_type": "code",
        "colab": {}
      },
      "source": [
        "def rnn_forward(X, Y, a0, parameters, vocab_size = 30):\n",
        "    \n",
        "    # Initialize x, a and y_hat as empty dictionaries\n",
        "    x, a, y_hat = {}, {}, {}\n",
        "    \n",
        "    a[-1] = np.copy(a0)\n",
        "    \n",
        "    # initialize your loss to 0\n",
        "    loss = 0\n",
        "    \n",
        "    for t in range(len(X)):\n",
        "        \n",
        "        # Set x[t] to be the one-hot vector representation of the t'th character in X.\n",
        "        # if X[t] == None, we just have x[t]=0. This is used to set the input for the first timestep to the zero vector. \n",
        "        x[t] = np.zeros((vocab_size,1)) \n",
        "        if (X[t] != None):\n",
        "            x[t][X[t]] = 1\n",
        "        \n",
        "        # Run one step forward of the RNN\n",
        "        a[t], y_hat[t] = rnn_step_forward(parameters, a[t-1], x[t])\n",
        "        \n",
        "        # Update the loss by substracting the cross-entropy term of this time-step from it.\n",
        "        loss -= np.log(y_hat[t][Y[t],0])\n",
        "        \n",
        "    cache = (y_hat, a, x)\n",
        "        \n",
        "    return loss, cache"
      ],
      "execution_count": 0,
      "outputs": []
    },
    {
      "cell_type": "markdown",
      "metadata": {
        "id": "q16kG4oRsIf4",
        "colab_type": "text"
      },
      "source": [
        "### One Step of RNN backward"
      ]
    },
    {
      "cell_type": "code",
      "metadata": {
        "id": "N8iJNGJdsN8H",
        "colab_type": "code",
        "colab": {}
      },
      "source": [
        "def rnn_step_backward(dy, gradients, parameters, x, a, a_prev):\n",
        "    \n",
        "    gradients['dWya'] += np.dot(dy, a.T)\n",
        "    gradients['dby'] += dy\n",
        "    da = np.dot(parameters['Wya'].T, dy) + gradients['da_next'] # backprop into h\n",
        "    daraw = (1 - a * a) * da # backprop through tanh nonlinearity\n",
        "    gradients['db'] += daraw\n",
        "    gradients['dWax'] += np.dot(daraw, x.T)\n",
        "    gradients['dWaa'] += np.dot(daraw, a_prev.T)\n",
        "    gradients['da_next'] = np.dot(parameters['Waa'].T, daraw)\n",
        "    return gradients"
      ],
      "execution_count": 0,
      "outputs": []
    },
    {
      "cell_type": "markdown",
      "metadata": {
        "id": "RC32ybNWsS3E",
        "colab_type": "text"
      },
      "source": [
        "### Backward Pass through RNN (for one example)"
      ]
    },
    {
      "cell_type": "code",
      "metadata": {
        "id": "ptsO_pOUsSCu",
        "colab_type": "code",
        "colab": {}
      },
      "source": [
        "def rnn_backward(X, Y, parameters, cache):\n",
        "    \n",
        "    gradients = {}\n",
        "    \n",
        "    (y_hat, a, x) = cache\n",
        "    Waa, Wax, Wya, by, b = parameters['Waa'], parameters['Wax'], parameters['Wya'], parameters['by'], parameters['b']\n",
        "    \n",
        "    gradients['dWax'], gradients['dWaa'], gradients['dWya'] = np.zeros_like(Wax), np.zeros_like(Waa), np.zeros_like(Wya)\n",
        "    gradients['db'], gradients['dby'] = np.zeros_like(b), np.zeros_like(by)\n",
        "    gradients['da_next'] = np.zeros_like(a[0])\n",
        "    \n",
        "    for t in reversed(range(len(X))):\n",
        "        dy = np.copy(y_hat[t])\n",
        "        dy[Y[t]] -= 1\n",
        "        gradients = rnn_step_backward(dy, gradients, parameters, x[t], a[t], a[t-1])\n",
        "    \n",
        "    return gradients, a"
      ],
      "execution_count": 0,
      "outputs": []
    },
    {
      "cell_type": "markdown",
      "metadata": {
        "id": "0SEPhbuQswJA",
        "colab_type": "text"
      },
      "source": [
        "### Update Paramters "
      ]
    },
    {
      "cell_type": "code",
      "metadata": {
        "id": "LY7vmbR_szUz",
        "colab_type": "code",
        "colab": {}
      },
      "source": [
        "def update_parameters(parameters, gradients, lr):\n",
        "\n",
        "    parameters['Wax'] += -lr * gradients['dWax']\n",
        "    parameters['Waa'] += -lr * gradients['dWaa']\n",
        "    parameters['Wya'] += -lr * gradients['dWya']\n",
        "    parameters['b']  += -lr * gradients['db']\n",
        "    parameters['by']  += -lr * gradients['dby']\n",
        "    return parameters"
      ],
      "execution_count": 0,
      "outputs": []
    },
    {
      "cell_type": "code",
      "metadata": {
        "id": "GXQKQz4jg4fP",
        "colab_type": "code",
        "colab": {}
      },
      "source": [
        "import numpy as np\n",
        "import random"
      ],
      "execution_count": 0,
      "outputs": []
    },
    {
      "cell_type": "markdown",
      "metadata": {
        "id": "2BWEV6vNiFss",
        "colab_type": "text"
      },
      "source": [
        "### I have kept the Dataset inside Google Drive, so lets mount the Google Drive"
      ]
    },
    {
      "cell_type": "code",
      "metadata": {
        "id": "v8eKJVXohVfE",
        "colab_type": "code",
        "outputId": "9a61432c-651b-4c79-d9f7-76cb51188bf7",
        "colab": {
          "base_uri": "https://localhost:8080/",
          "height": 34
        }
      },
      "source": [
        "from google.colab import drive\n",
        "drive.mount('/gdrive')"
      ],
      "execution_count": 0,
      "outputs": [
        {
          "output_type": "stream",
          "text": [
            "Mounted at /gdrive\n"
          ],
          "name": "stdout"
        }
      ]
    },
    {
      "cell_type": "markdown",
      "metadata": {
        "collapsed": true,
        "id": "8ps2TE90g4fS",
        "colab_type": "text"
      },
      "source": [
        "## 1 - Preprocess the Data\n",
        "\n",
        "### 1.1 - Read the Data from Google Drive\n",
        "\n",
        "Read the dataset of names, create a list of unique characters (such as a-z), and compute the dataset and vocabulary size. "
      ]
    },
    {
      "cell_type": "code",
      "metadata": {
        "id": "8zoViF2xg4fT",
        "colab_type": "code",
        "outputId": "38353b6c-a952-4ad5-d4e3-becf42a00ee8",
        "colab": {
          "base_uri": "https://localhost:8080/",
          "height": 34
        }
      },
      "source": [
        "data = open('/gdrive/My Drive/names.txt', 'r').read()\n",
        "data= data.lower()\n",
        "chars = list(set(data))\n",
        "data_size, vocab_size = len(data), len(chars)\n",
        "print('There are %d total characters and %d unique characters in your data.' % (data_size, vocab_size))"
      ],
      "execution_count": 0,
      "outputs": [
        {
          "output_type": "stream",
          "text": [
            "There are 55873 total characters and 30 unique characters in your data.\n"
          ],
          "name": "stdout"
        }
      ]
    },
    {
      "cell_type": "markdown",
      "metadata": {
        "id": "dW_dJSO9g4fX",
        "colab_type": "text"
      },
      "source": [
        "The characters are a-z (26 characters) plus single quote \"'\", single space' ', hyphen '-' and newline character \"\\n\" in this project plays a role similar to the `<EOS>` (End of sentence) token, it indicates the end of the name rather than the end of a sentence, Total of 30 chars\n",
        "\n",
        "Than we create a python dictionary to map each character to an index from 0-29. We also create a second python dictionary that maps each index back to the corresponding character character. This will help you figure out what index corresponds to what character in the probability distribution output of the softmax layer. Below, `char_to_ix` and `ix_to_char` are the python dictionaries. "
      ]
    },
    {
      "cell_type": "code",
      "metadata": {
        "id": "vIFfIoKjg4fY",
        "colab_type": "code",
        "outputId": "d420e845-b55f-4998-87c0-57dd96bdfdcc",
        "colab": {
          "base_uri": "https://localhost:8080/",
          "height": 71
        }
      },
      "source": [
        "char_to_ix = { ch:i for i,ch in enumerate(sorted(chars)) }\n",
        "ix_to_char = { i:ch for i,ch in enumerate(sorted(chars)) }\n",
        "print(char_to_ix)\n",
        "print(ix_to_char)"
      ],
      "execution_count": 0,
      "outputs": [
        {
          "output_type": "stream",
          "text": [
            "{'\\n': 0, ' ': 1, \"'\": 2, '-': 3, 'a': 4, 'b': 5, 'c': 6, 'd': 7, 'e': 8, 'f': 9, 'g': 10, 'h': 11, 'i': 12, 'j': 13, 'k': 14, 'l': 15, 'm': 16, 'n': 17, 'o': 18, 'p': 19, 'q': 20, 'r': 21, 's': 22, 't': 23, 'u': 24, 'v': 25, 'w': 26, 'x': 27, 'y': 28, 'z': 29}\n",
            "{0: '\\n', 1: ' ', 2: \"'\", 3: '-', 4: 'a', 5: 'b', 6: 'c', 7: 'd', 8: 'e', 9: 'f', 10: 'g', 11: 'h', 12: 'i', 13: 'j', 14: 'k', 15: 'l', 16: 'm', 17: 'n', 18: 'o', 19: 'p', 20: 'q', 21: 'r', 22: 's', 23: 't', 24: 'u', 25: 'v', 26: 'w', 27: 'x', 28: 'y', 29: 'z'}\n"
          ],
          "name": "stdout"
        }
      ]
    },
    {
      "cell_type": "markdown",
      "metadata": {
        "id": "HnMb25Ntg4fa",
        "colab_type": "text"
      },
      "source": [
        "### 1.2 - Overview of the model\n",
        "\n",
        "Your model will have the following structure: \n",
        "\n",
        "- Initialize parameters \n",
        "- Run the optimization loop\n",
        "    - Forward propagation to compute the loss function\n",
        "    - Backward propagation to compute the gradients with respect to the loss function\n",
        "    - Clip the gradients to avoid exploding gradients\n",
        "    - Using the gradients, update your parameter with the gradient descent update rule.\n",
        "- Return the learned parameters \n",
        "    \n",
        "\n",
        "At each time-step, the RNN tries to predict what is the next character given the previous characters."
      ]
    },
    {
      "cell_type": "markdown",
      "metadata": {
        "id": "DZe16ewBg4fb",
        "colab_type": "text"
      },
      "source": [
        "## 2 - Putting together Building blocks of the model\n",
        "\n",
        "In this part, we will build two important blocks of the overall model:\n",
        "- Gradient clipping: to avoid exploding gradients\n",
        "- Sampling: a technique used to generate characters\n",
        "\n",
        "then apply these two functions to build the model."
      ]
    },
    {
      "cell_type": "markdown",
      "metadata": {
        "id": "RJyt3zOOg4fc",
        "colab_type": "text"
      },
      "source": [
        "### 2.1 - Clipping the gradients in the optimization loop\n",
        "\n",
        "Before updating the parameters, we will perform gradient clipping when needed to make sure that gradients are not \"exploding,\" taking on overly large values. \n",
        "\n",
        "function `clip` that takes in a dictionary of gradients and returns a clipped version of gradients. \n",
        "we will use a simple element-wise clipping procedure, in which every element of the gradient vector is clipped to lie between some range [-N, N].\n",
        "\n",
        "In this project, if any component of the gradient vector is greater than 5, it would be set to 5; and if any component of the gradient vector is less than -5, it would be set to -5. If it is between -5 and 5, it is left alone. \n"
      ]
    },
    {
      "cell_type": "code",
      "metadata": {
        "id": "ivOcYJ0yg4fd",
        "colab_type": "code",
        "colab": {}
      },
      "source": [
        "def clip(gradients, maxValue):\n",
        "    '''\n",
        "    Clips the gradients' values between minimum and maximum.\n",
        "    \n",
        "    Arguments:\n",
        "    gradients -- a dictionary containing the gradients \"dWaa\", \"dWax\", \"dWya\", \"db\", \"dby\"\n",
        "    maxValue -- everything above this number is set to this number, and everything less than -maxValue is set to -maxValue\n",
        "    \n",
        "    Returns: \n",
        "    gradients -- a dictionary with the clipped gradients.\n",
        "    '''\n",
        "    \n",
        "    dWaa, dWax, dWya, db, dby = gradients['dWaa'], gradients['dWax'], gradients['dWya'], gradients['db'], gradients['dby']\n",
        "   \n",
        "    for gradient in [dWax, dWaa, dWya, db, dby]:\n",
        "        np.clip(gradient, -maxValue, maxValue, out=gradient)\n",
        "    \n",
        "    gradients = {\"dWaa\": dWaa, \"dWax\": dWax, \"dWya\": dWya, \"db\": db, \"dby\": dby}\n",
        "    \n",
        "    return gradients"
      ],
      "execution_count": 0,
      "outputs": []
    },
    {
      "cell_type": "markdown",
      "metadata": {
        "id": "2PlacyLIg4fm",
        "colab_type": "text"
      },
      "source": [
        "### 2.2 - Sampling \n",
        "visit project's [tutorial blog_page](https://https://leakyrelu.com/2019/10/03/generating-people-names-by-building-character-level-language-model-rnn-from-scratch/) to know about what is sampling"
      ]
    },
    {
      "cell_type": "code",
      "metadata": {
        "id": "k-CPOtTIg4fn",
        "colab_type": "code",
        "colab": {}
      },
      "source": [
        "def sample(parameters, char_to_ix, seed):\n",
        "    \"\"\"\n",
        "    Sample a sequence of characters according to a sequence of probability distributions output of the RNN\n",
        "\n",
        "    Arguments:\n",
        "    parameters -- python dictionary containing the parameters Waa, Wax, Wya, by, and b. \n",
        "    char_to_ix -- python dictionary mapping each character to an index.\n",
        "    seed -- used for grading purposes. Do not worry about it.\n",
        "\n",
        "    Returns:\n",
        "    indices -- a list of length n containing the indices of the sampled characters.\n",
        "    \"\"\"\n",
        "    \n",
        "    # Retrieve parameters and relevant shapes from \"parameters\" dictionary\n",
        "    Waa, Wax, Wya, by, b = parameters['Waa'], parameters['Wax'], parameters['Wya'], parameters['by'], parameters['b']\n",
        "    vocab_size = by.shape[0]\n",
        "    n_a = Waa.shape[1]\n",
        "    \n",
        "    \n",
        "    x = np.zeros((vocab_size, 1))\n",
        "    a_prev = np.zeros((n_a, 1))\n",
        "   \n",
        "    indices = []\n",
        "\n",
        "    idx = -1 \n",
        "     \n",
        "    counter = 0\n",
        "    newline_character = char_to_ix['\\n']\n",
        "    \n",
        "    while (idx != newline_character and counter != 50):\n",
        "        \n",
        "        a = np.tanh(np.dot(Wax, x) + np.dot(Waa, a_prev) + b)\n",
        "        z = np.dot(Wya, a) + by\n",
        "        y = softmax(z)\n",
        "        \n",
        "        np.random.seed(counter+seed) \n",
        "        \n",
        "        idx = np.random.choice(list(range(vocab_size)), p = y.ravel())\n",
        "        indices.append(idx)\n",
        "        x = np.zeros((vocab_size, 1))\n",
        "        x[idx] = 1\n",
        "        a_prev = a\n",
        "        \n",
        "        seed += 1\n",
        "        counter +=1\n",
        "        \n",
        "\n",
        "    if (counter == 50):\n",
        "        indices.append(char_to_ix['\\n'])\n",
        "    \n",
        "    return indices"
      ],
      "execution_count": 0,
      "outputs": []
    },
    {
      "cell_type": "markdown",
      "metadata": {
        "id": "AKs8LpEwg4ft",
        "colab_type": "text"
      },
      "source": [
        "## 3 - Building the language model \n",
        "\n",
        "It is time to build the character-level language model for text generation. \n",
        "\n",
        "\n",
        "### 3.1 - Gradient descent \n",
        "\n",
        "we will implement a function performing one step of stochastic gradient descent (with clipped gradients), will go through the training examples one at a time, so the optimization algorithm will be stochastic gradient descent. Here are the steps of a common optimization loop for an RNN:\n",
        "\n",
        "- Forward propagate through the RNN to compute the loss\n",
        "- Backward propagate through time to compute the gradients of the loss with respect to the parameters\n",
        "- Clip the gradients if necessary \n",
        "- Update your parameters using gradient descent "
      ]
    },
    {
      "cell_type": "code",
      "metadata": {
        "id": "NpP2s4Xxg4fu",
        "colab_type": "code",
        "colab": {}
      },
      "source": [
        "# GRADED FUNCTION: optimize\n",
        "\n",
        "def optimize(X, Y, a_prev, parameters, learning_rate = 0.01):\n",
        "    \"\"\"\n",
        "    Execute one step of the optimization to train the model.\n",
        "    \n",
        "    Arguments:\n",
        "    X -- list of integers, where each integer is a number that maps to a character in the vocabulary.\n",
        "    Y -- list of integers, exactly the same as X but shifted one index to the left.\n",
        "    a_prev -- previous hidden state.\n",
        "    parameters -- python dictionary containing:\n",
        "                        Wax -- Weight matrix multiplying the input, numpy array of shape (n_a, n_x)\n",
        "                        Waa -- Weight matrix multiplying the hidden state, numpy array of shape (n_a, n_a)\n",
        "                        Wya -- Weight matrix relating the hidden-state to the output, numpy array of shape (n_y, n_a)\n",
        "                        b --  Bias, numpy array of shape (n_a, 1)\n",
        "                        by -- Bias relating the hidden-state to the output, numpy array of shape (n_y, 1)\n",
        "    learning_rate -- learning rate for the model.\n",
        "    \n",
        "    Returns:\n",
        "    loss -- value of the loss function (cross-entropy)\n",
        "    gradients -- python dictionary containing:\n",
        "                        dWax -- Gradients of input-to-hidden weights, of shape (n_a, n_x)\n",
        "                        dWaa -- Gradients of hidden-to-hidden weights, of shape (n_a, n_a)\n",
        "                        dWya -- Gradients of hidden-to-output weights, of shape (n_y, n_a)\n",
        "                        db -- Gradients of bias vector, of shape (n_a, 1)\n",
        "                        dby -- Gradients of output bias vector, of shape (n_y, 1)\n",
        "    a[len(X)-1] -- the last hidden state, of shape (n_a, 1)\n",
        "    \"\"\"\n",
        "    \n",
        "    \n",
        "  \n",
        "    loss, cache = rnn_forward(X, Y, a_prev, parameters)\n",
        "    gradients, a = rnn_backward(X, Y, parameters, cache)\n",
        "    gradients = clip(gradients, 5)\n",
        "    parameters = update_parameters(parameters, gradients, learning_rate)\n",
        "    \n",
        "    \n",
        "    return loss, gradients, a[len(X)-1]"
      ],
      "execution_count": 0,
      "outputs": []
    },
    {
      "cell_type": "markdown",
      "metadata": {
        "collapsed": true,
        "id": "kTxRJx80g4f3",
        "colab_type": "text"
      },
      "source": [
        "### 3.2 - Training the model "
      ]
    },
    {
      "cell_type": "markdown",
      "metadata": {
        "id": "FhnkCZfzg4f4",
        "colab_type": "text"
      },
      "source": [
        "Given the dataset of names, we use each line of the dataset (one name) as one training example. Every 100 steps of stochastic gradient descent,\n",
        "will sample 10 randomly chosen names to see how the algorithm is doing. shuffle the dataset, so that stochastic gradient descent visits the examples in random order. \n",
        "\n",
        "`model()`. When `examples[index]` contains one name (string), to create an example (X, Y), you can use this:\n",
        "```python\n",
        "        index = j % len(examples)\n",
        "        X = [None] + [char_to_ix[ch] for ch in examples[index]] \n",
        "        Y = X[1:] + [char_to_ix[\"\\n\"]]\n",
        "```"
      ]
    },
    {
      "cell_type": "code",
      "metadata": {
        "id": "Q9pnSQ_wg4f5",
        "colab_type": "code",
        "colab": {}
      },
      "source": [
        "def model(data, ix_to_char, char_to_ix, num_iterations = 200000, n_a = 50, names = 5, vocab_size = 30):\n",
        "    \"\"\"\n",
        "    Trains the model and generates names. \n",
        "    \n",
        "    Arguments:\n",
        "    data -- text corpus\n",
        "    ix_to_char -- dictionary that maps the index to a character\n",
        "    char_to_ix -- dictionary that maps a character to an index\n",
        "    num_iterations -- number of iterations to train the model for\n",
        "    n_a -- number of units of the RNN cell\n",
        "    dino_names -- number of dinosaur names you want to sample at each iteration. \n",
        "    vocab_size -- number of unique characters found in the text, size of the vocabulary\n",
        "    \n",
        "    Returns:\n",
        "    parameters -- learned parameters\n",
        "    \"\"\"\n",
        "    \n",
        "    n_x, n_y = vocab_size, vocab_size\n",
        "    parameters = initialize_parameters(n_a, n_x, n_y)\n",
        "    loss = get_initial_loss(vocab_size, names)\n",
        "    \n",
        "   \n",
        "    with open(\"/gdrive/My Drive/names.txt\") as f:\n",
        "        examples = f.readlines()\n",
        "    examples = [x.lower().strip() for x in examples]\n",
        "    \n",
        "    \n",
        "    np.random.seed(0)\n",
        "    np.random.shuffle(examples)\n",
        "    \n",
        "    \n",
        "    a_prev = np.zeros((n_a, 1))\n",
        "    \n",
        "\n",
        "    for j in range(num_iterations):\n",
        "        \n",
        "       \n",
        "        \n",
        "       \n",
        "        index = j % len(examples)\n",
        "        X = [None] + [char_to_ix[ch] for ch in examples[index]]\n",
        "        Y = X[1:] + [char_to_ix[\"\\n\"]]\n",
        "        \n",
        "       \n",
        "        loss, gradients, a_prev = optimize(X, Y, a_prev, parameters, 0.01)\n",
        "        \n",
        "        \n",
        "        loss = curr_loss\n",
        "\n",
        "        if j % 10000 == 0:\n",
        "            print('Iteration: %d, Loss: %f' % (j, loss) + '\\n')\n",
        "            seed = 0\n",
        "            for name in range(names):\n",
        "                \n",
        "                # Sample indices and print them\n",
        "                sampled_indices = sample(parameters, char_to_ix, seed)\n",
        "                print_sample(sampled_indices, ix_to_char)\n",
        "                \n",
        "                seed += 1  \n",
        "      \n",
        "            print('\\n')\n",
        "        \n",
        "    return parameters"
      ],
      "execution_count": 0,
      "outputs": []
    },
    {
      "cell_type": "markdown",
      "metadata": {
        "id": "Cdkx6n8Og4f8",
        "colab_type": "text"
      },
      "source": [
        "Run the following cell, at first model will generate random-looking characters at the first iteration. After a few thousand iterations, the model should learn to generate reasonable-looking names. "
      ]
    },
    {
      "cell_type": "code",
      "metadata": {
        "scrolled": true,
        "id": "uJyM-2Plg4f8",
        "colab_type": "code",
        "outputId": "32d77d4e-e1f7-4d42-cf80-2ab632165956",
        "colab": {
          "base_uri": "https://localhost:8080/",
          "height": 1000
        }
      },
      "source": [
        "parameters = model(data, ix_to_char, char_to_ix)"
      ],
      "execution_count": 0,
      "outputs": [
        {
          "output_type": "stream",
          "text": [
            "Iteration: 0, Loss: 23.809027\n",
            "\n",
            "Mjzwwtalcpncyfrpv rhihvt\n",
            "Imc'\n",
            "Jzwwtalcpncyfrpv rhihvt\n",
            "Mc'\n",
            "Zwwtalcpncyfrpv rhihvt\n",
            "\n",
            "\n",
            "Iteration: 10000, Loss: 10.335634\n",
            "\n",
            "Mexttn\n",
            "Jie\n",
            "Kuttn\n",
            "Mad\n",
            "Wrtta\n",
            "\n",
            "\n",
            "Iteration: 20000, Loss: 13.579897\n",
            "\n",
            "Meytth\n",
            "Ilea\n",
            "Justna\n",
            "Mad\n",
            "Wrys\n",
            "\n",
            "\n",
            "Iteration: 30000, Loss: 12.886642\n",
            "\n",
            "Mgyttobe\n",
            "Ilea\n",
            "Justuce\n",
            "Mac-dorga\n",
            "Wsyna\n",
            "\n",
            "\n",
            "Iteration: 40000, Loss: 16.069340\n",
            "\n",
            "Meysti\n",
            "Ind\n",
            "Justlbe\n",
            "Mac\n",
            "Wosta\n",
            "\n",
            "\n",
            "Iteration: 50000, Loss: 19.530784\n",
            "\n",
            "Lixpor\n",
            "Goic\n",
            "Hustia\n",
            "Leb\n",
            "Wrvice\n",
            "\n",
            "\n",
            "Iteration: 60000, Loss: 13.861752\n",
            "\n",
            "Meusti\n",
            "Imba\n",
            "Justolia\n",
            "Mal\n",
            "Worrala\n",
            "\n",
            "\n",
            "Iteration: 70000, Loss: 11.658527\n",
            "\n",
            "Meysth\n",
            "Kieb\n",
            "Kysto\n",
            "Mad\n",
            "Wrysa\n",
            "\n",
            "\n",
            "Iteration: 80000, Loss: 9.427867\n",
            "\n",
            "Liworra\n",
            "Higa\n",
            "Ivissa\n",
            "Mad\n",
            "Wrurdia\n",
            "\n",
            "\n",
            "Iteration: 90000, Loss: 9.901628\n",
            "\n",
            "Mevry\n",
            "Ilba\n",
            "Justicd\n",
            "Mad\n",
            "Wrtofe\n",
            "\n",
            "\n",
            "Iteration: 100000, Loss: 14.864924\n",
            "\n",
            "Mivron\n",
            "Joeb\n",
            "Kuttja\n",
            "Mad\n",
            "Wostal\n",
            "\n",
            "\n",
            "Iteration: 110000, Loss: 12.407441\n",
            "\n",
            "Mavrus\n",
            "Joeb\n",
            "Justi\n",
            "Mad\n",
            "Wossa\n",
            "\n",
            "\n",
            "Iteration: 120000, Loss: 14.501468\n",
            "\n",
            "Livorja\n",
            "Imad\n",
            "Justold\n",
            "Mad\n",
            "Wyrren\n",
            "\n",
            "\n",
            "Iteration: 130000, Loss: 12.537980\n",
            "\n",
            "Mevmor\n",
            "Jola\n",
            "Kutti\n",
            "Mad\n",
            "Wostan\n",
            "\n",
            "\n",
            "Iteration: 140000, Loss: 12.267088\n",
            "\n",
            "Maxry\n",
            "Joda\n",
            "Kysti\n",
            "Mad\n",
            "Wnyscia\n",
            "\n",
            "\n",
            "Iteration: 150000, Loss: 14.979232\n",
            "\n",
            "Mivnin\n",
            "Joe\n",
            "Juttole\n",
            "Mad\n",
            "Wots\n",
            "\n",
            "\n",
            "Iteration: 160000, Loss: 14.319417\n",
            "\n",
            "Mevong\n",
            "Joca\n",
            "Kyttra\n",
            "Maialli\n",
            "Wrynce\n",
            "\n",
            "\n",
            "Iteration: 170000, Loss: 12.453277\n",
            "\n",
            "Mivorice\n",
            "Ila\n",
            "Justoda\n",
            "Mag\n",
            "Wottacele\n",
            "\n",
            "\n",
            "Iteration: 180000, Loss: 13.219462\n",
            "\n",
            "Mevpor\n",
            "Joe\n",
            "Justola\n",
            "Mad\n",
            "Wottan\n",
            "\n",
            "\n",
            "Iteration: 190000, Loss: 8.757467\n",
            "\n",
            "Mivsto\n",
            "Gida\n",
            "Ivitta\n",
            "Mag\n",
            "Wotrah\n",
            "\n",
            "\n"
          ],
          "name": "stdout"
        }
      ]
    },
    {
      "cell_type": "markdown",
      "metadata": {
        "collapsed": true,
        "id": "BchsxMVvg4f_",
        "colab_type": "text"
      },
      "source": [
        "## Conclusion\n",
        "\n",
        "Initially the model was generating random sequence of characters which dint make any sense but during the end of the training we were getting reasonable names.\n",
        "\n",
        "Thats All for this tutorial, the purpose behind to make this tuorial was to give readers and machine learning, deep learning followers an Idea of how RNNs work and how this bits nad peices come together to build a whole model.\n",
        "\n",
        "After Implemeting this tutorial, I bet followers of this tutorial will be clear the functional details of RNN and will be having adequeate insight when debugging the RNN and building the RNN based model using any Deep Learning Framework\n",
        "\n",
        "To Stay updated with my tutorials, please follow my Blog [LeakyReLU : Practical Guide to Machine Learning, Deep Learning and AI](https://leakyrelu.com)"
      ]
    }
  ]
}